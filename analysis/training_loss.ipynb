{
 "cells": [
  {
   "cell_type": "markdown",
   "metadata": {},
   "source": [
    "Plot the training loss per epoch."
   ]
  },
  {
   "cell_type": "code",
   "execution_count": 1,
   "metadata": {},
   "outputs": [],
   "source": [
    "from matplotlib import pyplot as plt\n",
    "import numpy as np"
   ]
  },
  {
   "cell_type": "code",
   "execution_count": 2,
   "metadata": {},
   "outputs": [],
   "source": [
    "log_file = '../logs/1642602756.log'\n",
    "epoch_losses = []\n",
    "with open(log_file) as f:\n",
    "  for line in f.readlines():\n",
    "    if 'Avg. loss of epoch' in line:\n",
    "      epoch_losses.append(float(line.split(': ')[-1]))"
   ]
  },
  {
   "cell_type": "code",
   "execution_count": 3,
   "metadata": {},
   "outputs": [
    {
     "data": {
      "image/png": "[encoded data removed]",
      "text/plain": [
       "<Figure size 432x288 with 1 Axes>"
      ]
     },
     "metadata": {
      "needs_background": "light"
     },
     "output_type": "display_data"
    }
   ],
   "source": [
    "plt.scatter(range(1, len(epoch_losses)+1), epoch_losses)\n",
    "plt.plot(range(1, len(epoch_losses)+1), epoch_losses)\n",
    "plt.xlabel('Epoch')\n",
    "plt.ylabel('Avg. loss')\n",
    "plt.xticks(range(1, len(epoch_losses)+1))\n",
    "plt.show()"
   ]
  },
  {
   "cell_type": "code",
   "execution_count": 4,
   "metadata": {},
   "outputs": [],
   "source": [
    "all_losses = [[]]\n",
    "with open(log_file) as f:\n",
    "  for line in f.readlines():\n",
    "    if 'batches' in line:\n",
    "      all_losses[-1].append(-float(line.split(': ')[-1]))\n",
    "    elif 'Avg. loss of epoch' in line:\n",
    "      all_losses.append([])\n",
    "del all_losses[-1]"
   ]
  },
  {
   "cell_type": "code",
   "execution_count": 5,
   "metadata": {},
   "outputs": [],
   "source": [
    "min_losses, max_losses = [], []\n",
    "for losses in all_losses:\n",
    "  min_loss, max_loss = 100, -1\n",
    "  for loss in losses:\n",
    "    if loss > max_loss:\n",
    "      max_loss = loss\n",
    "    elif loss < min_loss:\n",
    "      min_loss = loss\n",
    "  min_losses.append(min_loss)\n",
    "  max_losses.append(max_loss)"
   ]
  },
  {
   "cell_type": "code",
   "execution_count": 6,
   "metadata": {},
   "outputs": [
    {
     "data": {
      "image/png": "[encoded data removed]",
      "text/plain": [
       "<Figure size 432x288 with 1 Axes>"
      ]
     },
     "metadata": {
      "needs_background": "light"
     },
     "output_type": "display_data"
    }
   ],
   "source": [
    "error = np.array([min_losses, max_losses])\n",
    "plt.errorbar(np.arange(len(epoch_losses)), epoch_losses, yerr=error, fmt='o')\n",
    "plt.xlabel('Epoch')\n",
    "plt.ylabel('Avg. loss with min. and max. batch loss.')\n",
    "plt.xticks(range(len(error)), range(1,len(error)+1))\n",
    "plt.show()"
   ]
  },
  {
   "cell_type": "code",
   "execution_count": 7,
   "metadata": {},
   "outputs": [
    {
     "data": {
      "text/plain": [
       "array([[ 3.42285633,  3.75183749,  3.79354095,  3.8716414 ,  4.04581404],\n",
       "       [24.03557777,  6.40120029,  7.14752626,  7.21504021,  7.14682722]])"
      ]
     },
     "execution_count": 7,
     "metadata": {},
     "output_type": "execute_result"
    }
   ],
   "source": [
    "error"
   ]
  },
  {
   "cell_type": "code",
   "execution_count": null,
   "metadata": {},
   "outputs": [],
   "source": []
  }
 ],
 "metadata": {
  "interpreter": {
   "hash": "afec8bd1b97d7d536c9012edeeda7c68a0e99e84af90a3d324c5b7b0f06b2586"
  },
  "kernelspec": {
   "display_name": "Python 3.7.6 64-bit ('base': conda)",
   "language": "python",
   "name": "python3"
  },
  "language_info": {
   "codemirror_mode": {
    "name": "ipython",
    "version": 3
   },
   "file_extension": ".py",
   "mimetype": "text/x-python",
   "name": "python",
   "nbconvert_exporter": "python",
   "pygments_lexer": "ipython3",
   "version": "3.7.6"
  },
  "orig_nbformat": 4
 },
 "nbformat": 4,
 "nbformat_minor": 2
}
