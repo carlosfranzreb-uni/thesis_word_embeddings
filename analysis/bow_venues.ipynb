{
 "cells": [
  {
   "cell_type": "code",
   "execution_count": 31,
   "metadata": {},
   "outputs": [],
   "source": [
    "import json\n",
    "from matplotlib import pyplot as plt\n",
    "import numpy as np"
   ]
  },
  {
   "cell_type": "code",
   "execution_count": 32,
   "metadata": {},
   "outputs": [],
   "source": [
    "venues = json.load(open('../data/bow/venues.json'))\n",
    "referees = json.load(open('../data/bow/referees.json'))\n",
    "advisors = json.load(open('../data/bow/advisors.json'))"
   ]
  },
  {
   "cell_type": "code",
   "execution_count": 33,
   "metadata": {},
   "outputs": [],
   "source": [
    "all = {'venues': venues, 'referees': referees, 'advisors': advisors}"
   ]
  },
  {
   "cell_type": "code",
   "execution_count": 34,
   "metadata": {},
   "outputs": [],
   "source": [
    "def get_counts(data):\n",
    "  \"\"\" Count array lengths present in the values of the given dict.\n",
    "  Average the lengths of the constituent vectors of each venue,\n",
    "  advisor or referee. \"\"\"\n",
    "  counts = [0 for _ in list(range(10))]\n",
    "  for arr in data.values():\n",
    "    if len(arr) > len(counts)-1:\n",
    "      counts[-1] += 1\n",
    "    else:\n",
    "      counts[len(arr)] += 1\n",
    "  return counts"
   ]
  },
  {
   "cell_type": "code",
   "execution_count": 35,
   "metadata": {},
   "outputs": [
    {
     "name": "stdout",
     "output_type": "stream",
     "text": [
      "venues [6, 6, 22, 22, 27, 35, 37, 37, 31, 4030]\n",
      "referees [13, 13, 54, 150, 199, 322, 322, 355, 269, 8500]\n",
      "advisors [0, 0, 0, 0, 1, 0, 1, 1, 0, 1090]\n"
     ]
    }
   ],
   "source": [
    "for key in all:\n",
    "  print(key, get_counts(all[key]))\n"
   ]
  },
  {
   "cell_type": "code",
   "execution_count": 37,
   "metadata": {},
   "outputs": [
    {
     "data": {
      "image/png": "[encoded data removed]",
      "text/plain": [
       "<Figure size 432x288 with 1 Axes>"
      ]
     },
     "metadata": {
      "needs_background": "light"
     },
     "output_type": "display_data"
    }
   ],
   "source": [
    "x = np.arange(0, 30, 3)\n",
    "ticks = [str(i) for i in range(10)]\n",
    "ticks[-1] += '+'\n",
    "width = .75\n",
    "plt.bar(x-1, get_counts(venues), width, label='Venues')\n",
    "plt.bar(x-.25, get_counts(referees), width, label='Referees')\n",
    "plt.bar(x+.5, get_counts(advisors), width, label='Advisors')\n",
    "plt.yscale('log')\n",
    "plt.xticks(x-.25, ticks)\n",
    "plt.xlabel('No. of tokens')\n",
    "plt.ylabel('No. of venues (log. scale)')\n",
    "plt.legend()\n",
    "plt.show()"
   ]
  },
  {
   "cell_type": "code",
   "execution_count": 41,
   "metadata": {},
   "outputs": [
    {
     "data": {
      "text/plain": [
       "{'venues': 36.26663531624735,\n",
       " 'referees': 19.43954104148279,\n",
       " 'advisors': 15.824336688014638}"
      ]
     },
     "execution_count": 41,
     "metadata": {},
     "output_type": "execute_result"
    }
   ],
   "source": [
    "avg_lens = {key: sum([len(v) for v in value]) / len(value) for key, value in all.items()}\n",
    "avg_lens"
   ]
  },
  {
   "cell_type": "code",
   "execution_count": null,
   "metadata": {},
   "outputs": [],
   "source": []
  }
 ],
 "metadata": {
  "interpreter": {
   "hash": "afec8bd1b97d7d536c9012edeeda7c68a0e99e84af90a3d324c5b7b0f06b2586"
  },
  "kernelspec": {
   "display_name": "Python 3.7.6 64-bit ('base': conda)",
   "language": "python",
   "name": "python3"
  },
  "language_info": {
   "codemirror_mode": {
    "name": "ipython",
    "version": 3
   },
   "file_extension": ".py",
   "mimetype": "text/x-python",
   "name": "python",
   "nbconvert_exporter": "python",
   "pygments_lexer": "ipython3",
   "version": "3.7.6"
  },
  "orig_nbformat": 4
 },
 "nbformat": 4,
 "nbformat_minor": 2
}
