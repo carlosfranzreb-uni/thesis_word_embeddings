{
 "cells": [
  {
   "cell_type": "markdown",
   "metadata": {},
   "source": [
    "It surprises me that the first epoch has already the best batch avg. loss. The log of each batch is negative because I store it like that to perform gradient ascent instead of descent. So the actual loss is positive. Therefore, epoch 1 should be better. I don't understand why, after the first epoch, the performance gets constantly worse."
   ]
  },
  {
   "cell_type": "code",
   "execution_count": 4,
   "metadata": {},
   "outputs": [],
   "source": [
    "import json\n",
    "import numpy as np"
   ]
  },
  {
   "cell_type": "code",
   "execution_count": 6,
   "metadata": {},
   "outputs": [],
   "source": [
    "ep1 = json.load(open('../skipgram/embeddings/1642602756/embeddings_ep1.json'))\n",
    "ep5 = json.load(open('../skipgram/embeddings/1642602756/embeddings_ep5.json'))"
   ]
  },
  {
   "cell_type": "code",
   "execution_count": 4,
   "metadata": {},
   "outputs": [],
   "source": [
    "monomer = np.array(embeddings['monomer'])\n",
    "polymer = np.array(embeddings['polymer'])\n",
    "machine = np.array(embeddings['machine'])\n",
    "learning = np.array(embeddings['learning'])\n",
    "magnetic = np.array(embeddings['magnetic'])\n",
    "resonance = np.array(embeddings['resonance'])"
   ]
  },
  {
   "cell_type": "code",
   "execution_count": 7,
   "metadata": {},
   "outputs": [],
   "source": [
    "vectors_1 = {\n",
    "  'monomer': np.array(ep1['monomer']),\n",
    "  'polymer': np.array(ep1['polymer']),\n",
    "  'machine': np.array(ep1['machine']),\n",
    "  'learning': np.array(ep1['learning']),\n",
    "  'magnetic': np.array(ep1['magnetic']),\n",
    "  'resonance': np.array(ep1['resonance'])\n",
    "}"
   ]
  },
  {
   "cell_type": "code",
   "execution_count": 8,
   "metadata": {},
   "outputs": [],
   "source": [
    "vectors_5 = {\n",
    "  'monomer': np.array(ep5['monomer']),\n",
    "  'polymer': np.array(ep5['polymer']),\n",
    "  'machine': np.array(ep5['machine']),\n",
    "  'learning': np.array(ep5['learning']),\n",
    "  'magnetic': np.array(ep5['magnetic']),\n",
    "  'resonance': np.array(ep5['resonance'])\n",
    "}"
   ]
  },
  {
   "cell_type": "code",
   "execution_count": 10,
   "metadata": {},
   "outputs": [
    {
     "name": "stdout",
     "output_type": "stream",
     "text": [
      "dist(monomer,monomer) = 0.0\n",
      "dist(monomer,polymer) = 4.06971362552118\n",
      "dist(monomer,machine) = 5.708905822013942\n",
      "dist(monomer,learning) = 5.46126839394766\n",
      "dist(monomer,magnetic) = 5.280893004212832\n",
      "dist(monomer,resonance) = 5.607216785495744\n",
      "dist(polymer,monomer) = 4.06971362552118\n",
      "dist(polymer,polymer) = 0.0\n",
      "dist(polymer,machine) = 4.471068949765773\n",
      "dist(polymer,learning) = 4.469279410336604\n",
      "dist(polymer,magnetic) = 4.103815695926397\n",
      "dist(polymer,resonance) = 4.449006480149132\n",
      "dist(machine,monomer) = 5.708905822013942\n",
      "dist(machine,polymer) = 4.471068949765773\n",
      "dist(machine,machine) = 0.0\n",
      "dist(machine,learning) = 2.9185849057092055\n",
      "dist(machine,magnetic) = 4.798450081056845\n",
      "dist(machine,resonance) = 4.8719130221688935\n",
      "dist(learning,monomer) = 5.46126839394766\n",
      "dist(learning,polymer) = 4.469279410336604\n",
      "dist(learning,machine) = 2.9185849057092055\n",
      "dist(learning,learning) = 0.0\n",
      "dist(learning,magnetic) = 4.361478147251813\n",
      "dist(learning,resonance) = 4.449841621366759\n",
      "dist(magnetic,monomer) = 5.280893004212832\n",
      "dist(magnetic,polymer) = 4.103815695926397\n",
      "dist(magnetic,machine) = 4.798450081056845\n",
      "dist(magnetic,learning) = 4.361478147251813\n",
      "dist(magnetic,magnetic) = 0.0\n",
      "dist(magnetic,resonance) = 2.267798428302364\n",
      "dist(resonance,monomer) = 5.607216785495744\n",
      "dist(resonance,polymer) = 4.449006480149132\n",
      "dist(resonance,machine) = 4.8719130221688935\n",
      "dist(resonance,learning) = 4.449841621366759\n",
      "dist(resonance,magnetic) = 2.267798428302364\n",
      "dist(resonance,resonance) = 0.0\n"
     ]
    }
   ],
   "source": [
    "for v1 in vectors_1:\n",
    "  for v2 in vectors_1:\n",
    "    print(f'dist({v1},{v2}) = {np.linalg.norm(vectors_1[v1]-vectors_1[v2])}')"
   ]
  },
  {
   "cell_type": "code",
   "execution_count": 11,
   "metadata": {},
   "outputs": [
    {
     "name": "stdout",
     "output_type": "stream",
     "text": [
      "dist(monomer,monomer) = 0.0\n",
      "dist(monomer,polymer) = 3.8960134124586716\n",
      "dist(monomer,machine) = 5.496861253352665\n",
      "dist(monomer,learning) = 5.243373253402732\n",
      "dist(monomer,magnetic) = 5.199205280056618\n",
      "dist(monomer,resonance) = 5.560121792225797\n",
      "dist(polymer,monomer) = 3.8960134124586716\n",
      "dist(polymer,polymer) = 0.0\n",
      "dist(polymer,machine) = 4.4863492848699575\n",
      "dist(polymer,learning) = 4.321768401593395\n",
      "dist(polymer,magnetic) = 3.9177166602193374\n",
      "dist(polymer,resonance) = 4.62367524331383\n",
      "dist(machine,monomer) = 5.496861253352665\n",
      "dist(machine,polymer) = 4.4863492848699575\n",
      "dist(machine,machine) = 0.0\n",
      "dist(machine,learning) = 2.425257976105155\n",
      "dist(machine,magnetic) = 4.772538937004442\n",
      "dist(machine,resonance) = 5.0256460670077\n",
      "dist(learning,monomer) = 5.243373253402732\n",
      "dist(learning,polymer) = 4.321768401593395\n",
      "dist(learning,machine) = 2.425257976105155\n",
      "dist(learning,learning) = 0.0\n",
      "dist(learning,magnetic) = 4.560623792022566\n",
      "dist(learning,resonance) = 4.779432026581817\n",
      "dist(magnetic,monomer) = 5.199205280056618\n",
      "dist(magnetic,polymer) = 3.9177166602193374\n",
      "dist(magnetic,machine) = 4.772538937004442\n",
      "dist(magnetic,learning) = 4.560623792022566\n",
      "dist(magnetic,magnetic) = 0.0\n",
      "dist(magnetic,resonance) = 2.6443762195127496\n",
      "dist(resonance,monomer) = 5.560121792225797\n",
      "dist(resonance,polymer) = 4.62367524331383\n",
      "dist(resonance,machine) = 5.0256460670077\n",
      "dist(resonance,learning) = 4.779432026581817\n",
      "dist(resonance,magnetic) = 2.6443762195127496\n",
      "dist(resonance,resonance) = 0.0\n"
     ]
    }
   ],
   "source": [
    "for v1 in vectors_5:\n",
    "  for v2 in vectors_5:\n",
    "    print(f'dist({v1},{v2}) = {np.linalg.norm(vectors_5[v1]-vectors_5[v2])}')"
   ]
  },
  {
   "cell_type": "code",
   "execution_count": null,
   "metadata": {},
   "outputs": [],
   "source": []
  }
 ],
 "metadata": {
  "interpreter": {
   "hash": "afec8bd1b97d7d536c9012edeeda7c68a0e99e84af90a3d324c5b7b0f06b2586"
  },
  "kernelspec": {
   "display_name": "Python 3.7.6 64-bit ('base': conda)",
   "language": "python",
   "name": "python3"
  },
  "language_info": {
   "codemirror_mode": {
    "name": "ipython",
    "version": 3
   },
   "file_extension": ".py",
   "mimetype": "text/x-python",
   "name": "python",
   "nbconvert_exporter": "python",
   "pygments_lexer": "ipython3",
   "version": "3.7.6"
  },
  "orig_nbformat": 4
 },
 "nbformat": 4,
 "nbformat_minor": 2
}
