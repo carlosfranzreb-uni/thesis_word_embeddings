{
 "cells": [
  {
   "cell_type": "markdown",
   "metadata": {},
   "source": [
    "I first need to find words that often appear together, and words that don't. Then, I can look at how similar their embeddings are. Or rather the other way around. I look at the embeddings of three words, and then see how similar they are. For instance, 'machine' and 'learning' appear together 355 times in our corpus. 'polymer' and 'brush' appear together 33 times. 'magnetic' and 'resonance' appear together 477 times. These pairs of words belong to the fields of computer science, chemistry and medicine, respectively."
   ]
  },
  {
   "cell_type": "code",
   "execution_count": 1,
   "metadata": {},
   "outputs": [],
   "source": [
    "import json\n",
    "import numpy as np\n",
    "from skipgram.load_data import Dataset"
   ]
  },
  {
   "cell_type": "code",
   "execution_count": 2,
   "metadata": {},
   "outputs": [],
   "source": [
    "vocab_file = 'data/vocab/vocab_freqs.json'\n",
    "data_file = 'data/txt/data_lemmas.txt'\n",
    "vocab = json.load(open(vocab_file))\n",
    "embeddings = json.load(open('skipgram/embeddings/1642602756/embeddings.json'))"
   ]
  },
  {
   "cell_type": "code",
   "execution_count": 3,
   "metadata": {},
   "outputs": [
    {
     "data": {
      "text/plain": [
       "(True, True, True, True, True, True, True)"
      ]
     },
     "execution_count": 3,
     "metadata": {},
     "output_type": "execute_result"
    }
   ],
   "source": [
    "'monomer' in vocab, 'polymer' in vocab, 'machine' in vocab, 'learning' in vocab, 'magnetic' in vocab, 'resonance' in vocab, 'recent' in vocab"
   ]
  },
  {
   "cell_type": "code",
   "execution_count": 4,
   "metadata": {},
   "outputs": [],
   "source": [
    "monomer = np.array(embeddings['monomer'])\n",
    "polymer = np.array(embeddings['polymer'])\n",
    "machine = np.array(embeddings['machine'])\n",
    "learning = np.array(embeddings['learning'])\n",
    "magnetic = np.array(embeddings['magnetic'])\n",
    "resonance = np.array(embeddings['resonance'])"
   ]
  },
  {
   "cell_type": "code",
   "execution_count": 5,
   "metadata": {},
   "outputs": [],
   "source": [
    "vectors = {'monomer': monomer, 'polymer': polymer, 'machine': machine, 'learning': learning, 'magnetic': magnetic, 'resonance': resonance}"
   ]
  },
  {
   "cell_type": "code",
   "execution_count": 6,
   "metadata": {},
   "outputs": [
    {
     "name": "stdout",
     "output_type": "stream",
     "text": [
      "dist(monomer,monomer) = 0.0\n",
      "dist(monomer,polymer) = 4.06971362552118\n",
      "dist(monomer,machine) = 5.708905822013942\n",
      "dist(monomer,learning) = 5.46126839394766\n",
      "dist(monomer,magnetic) = 5.280893004212832\n",
      "dist(monomer,resonance) = 5.607216785495744\n",
      "dist(polymer,monomer) = 4.06971362552118\n",
      "dist(polymer,polymer) = 0.0\n",
      "dist(polymer,machine) = 4.471068949765773\n",
      "dist(polymer,learning) = 4.469279410336604\n",
      "dist(polymer,magnetic) = 4.103815695926397\n",
      "dist(polymer,resonance) = 4.449006480149132\n",
      "dist(machine,monomer) = 5.708905822013942\n",
      "dist(machine,polymer) = 4.471068949765773\n",
      "dist(machine,machine) = 0.0\n",
      "dist(machine,learning) = 2.9185849057092055\n",
      "dist(machine,magnetic) = 4.798450081056845\n",
      "dist(machine,resonance) = 4.8719130221688935\n",
      "dist(learning,monomer) = 5.46126839394766\n",
      "dist(learning,polymer) = 4.469279410336604\n",
      "dist(learning,machine) = 2.9185849057092055\n",
      "dist(learning,learning) = 0.0\n",
      "dist(learning,magnetic) = 4.361478147251813\n",
      "dist(learning,resonance) = 4.449841621366759\n",
      "dist(magnetic,monomer) = 5.280893004212832\n",
      "dist(magnetic,polymer) = 4.103815695926397\n",
      "dist(magnetic,machine) = 4.798450081056845\n",
      "dist(magnetic,learning) = 4.361478147251813\n",
      "dist(magnetic,magnetic) = 0.0\n",
      "dist(magnetic,resonance) = 2.267798428302364\n",
      "dist(resonance,monomer) = 5.607216785495744\n",
      "dist(resonance,polymer) = 4.449006480149132\n",
      "dist(resonance,machine) = 4.8719130221688935\n",
      "dist(resonance,learning) = 4.449841621366759\n",
      "dist(resonance,magnetic) = 2.267798428302364\n",
      "dist(resonance,resonance) = 0.0\n"
     ]
    }
   ],
   "source": [
    "for v1 in vectors:\n",
    "  for v2 in vectors:\n",
    "    print(f'dist({v1},{v2}) = {np.linalg.norm(vectors[v1]-vectors[v2])}')"
   ]
  },
  {
   "cell_type": "markdown",
   "metadata": {},
   "source": [
    "How often do the pairs of words appear together in the data? Not really together, but among the window the model uses (i.e. 3)"
   ]
  },
  {
   "cell_type": "code",
   "execution_count": 7,
   "metadata": {},
   "outputs": [],
   "source": [
    "with open('test_embeddings.txt', 'w', encoding='utf-8') as f1:\n",
    "  with open(data_file, encoding='utf-8') as f2:\n",
    "    for line in f2.readlines():\n",
    "      for word in line.split(' '):\n",
    "        if word in ['monomer', 'polymer', 'machine', 'learning', 'magnetic', 'resonance']:\n",
    "          f1.write(line)\n",
    "          break"
   ]
  },
  {
   "cell_type": "code",
   "execution_count": 8,
   "metadata": {},
   "outputs": [
    {
     "data": {
      "text/plain": [
       "(26, 606, 652)"
      ]
     },
     "execution_count": 8,
     "metadata": {},
     "output_type": "execute_result"
    }
   ],
   "source": [
    "chem, ml, med = 0, 0, 0\n",
    "chem_set = set(['monomer', 'polymer'])\n",
    "ml_set = set(['machine', 'learning'])\n",
    "med_set = set(['magnetic', 'resonance'])\n",
    "dataset = Dataset(vocab_file, 'test_embeddings.txt', k=0, w=3)\n",
    "for idx1, idx2, neg_samples in dataset:\n",
    "  w1, w2 = dataset.vocab.get_word(idx1), dataset.vocab.get_word(idx2)\n",
    "  this_set = set([w1, w2])\n",
    "  if this_set == chem_set:\n",
    "    chem += 1\n",
    "  elif this_set == ml_set:\n",
    "    ml += 1\n",
    "  elif this_set == med_set:\n",
    "    med += 1\n",
    "chem, ml, med"
   ]
  },
  {
   "cell_type": "code",
   "execution_count": 9,
   "metadata": {},
   "outputs": [
    {
     "name": "stdout",
     "output_type": "stream",
     "text": [
      "dist(program, monomer) = 5.35146646249422\n",
      "dist(program, polymer) = 4.1012284025493715\n",
      "dist(program, machine) = 3.7070025726093436\n",
      "dist(program, learning) = 3.077450748003879\n",
      "dist(program, magnetic) = 4.185310773621567\n",
      "dist(program, resonance) = 4.369236428017561\n"
     ]
    }
   ],
   "source": [
    "program = np.array(embeddings['program'])\n",
    "for v2 in vectors:\n",
    "  print(f'dist(program, {v2}) = {np.linalg.norm(program-vectors[v2])}')"
   ]
  },
  {
   "cell_type": "code",
   "execution_count": 10,
   "metadata": {},
   "outputs": [
    {
     "data": {
      "text/plain": [
       "True"
      ]
     },
     "execution_count": 10,
     "metadata": {},
     "output_type": "execute_result"
    }
   ],
   "source": [
    "'program' in vocab"
   ]
  },
  {
   "cell_type": "code",
   "execution_count": 11,
   "metadata": {},
   "outputs": [],
   "source": [
    "with open('program_embeddings.txt', 'w', encoding='utf-8') as f1:\n",
    "  with open('test_embeddings.txt', encoding='utf-8') as f2:\n",
    "    for line in f2.readlines():\n",
    "      if 'program' in line.split(' '):\n",
    "        f1.write(line)"
   ]
  },
  {
   "cell_type": "code",
   "execution_count": 12,
   "metadata": {},
   "outputs": [
    {
     "data": {
      "text/plain": [
       "(8, 21, 2)"
      ]
     },
     "execution_count": 12,
     "metadata": {},
     "output_type": "execute_result"
    }
   ],
   "source": [
    "chem, ml, med = 0, 0, 0\n",
    "chem_set = set(['monomer', 'polymer', 'program'])\n",
    "ml_set = set(['machine', 'learning', 'program'])\n",
    "med_set = set(['magnetic', 'resonance', 'program'])\n",
    "dataset = Dataset(vocab_file, 'program_embeddings.txt', k=0, w=3)\n",
    "for idx1, idx2, neg_samples in dataset:\n",
    "  this_set = set([dataset.vocab.get_word(idx1), dataset.vocab.get_word(idx2)])\n",
    "  if 'program' in this_set:\n",
    "    if this_set.issubset(chem_set):\n",
    "      chem += 1\n",
    "    elif this_set.issubset(ml_set):\n",
    "      ml += 1\n",
    "    elif this_set.issubset(med_set):\n",
    "      med += 1\n",
    "chem, ml, med"
   ]
  }
 ],
 "metadata": {
  "interpreter": {
   "hash": "afec8bd1b97d7d536c9012edeeda7c68a0e99e84af90a3d324c5b7b0f06b2586"
  },
  "kernelspec": {
   "display_name": "Python 3.7.6 64-bit ('base': conda)",
   "language": "python",
   "name": "python3"
  },
  "language_info": {
   "codemirror_mode": {
    "name": "ipython",
    "version": 3
   },
   "file_extension": ".py",
   "mimetype": "text/x-python",
   "name": "python",
   "nbconvert_exporter": "python",
   "pygments_lexer": "ipython3",
   "version": "3.7.6"
  },
  "orig_nbformat": 4
 },
 "nbformat": 4,
 "nbformat_minor": 2
}
