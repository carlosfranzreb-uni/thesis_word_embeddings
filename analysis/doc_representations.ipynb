{
 "cells": [
  {
   "cell_type": "code",
   "execution_count": 1,
   "metadata": {},
   "outputs": [],
   "source": [
    "import json\n",
    "from collections import Counter\n",
    "from matplotlib import pyplot as plt"
   ]
  },
  {
   "cell_type": "code",
   "execution_count": 2,
   "metadata": {},
   "outputs": [
    {
     "data": {
      "text/plain": [
       "29399"
      ]
     },
     "execution_count": 2,
     "metadata": {},
     "output_type": "execute_result"
    }
   ],
   "source": [
    "docs = json.load(open('../data/json/dim/all/ert/docs.json'))\n",
    "len(docs)"
   ]
  },
  {
   "cell_type": "code",
   "execution_count": 3,
   "metadata": {},
   "outputs": [
    {
     "data": {
      "text/plain": [
       "Counter({1: 20732,\n",
       "         5: 265,\n",
       "         4: 806,\n",
       "         3: 3365,\n",
       "         2: 4065,\n",
       "         7: 16,\n",
       "         6: 68,\n",
       "         0: 76,\n",
       "         8: 4,\n",
       "         9: 1,\n",
       "         10: 1})"
      ]
     },
     "execution_count": 3,
     "metadata": {},
     "output_type": "execute_result"
    }
   ],
   "source": [
    "venue_cnt = Counter([len(data['venues']) for data in docs.values()])\n",
    "bow_cnt = Counter([len(data['bow']) for data in docs.values()])\n",
    "venue_cnt"
   ]
  },
  {
   "cell_type": "code",
   "execution_count": 4,
   "metadata": {},
   "outputs": [
    {
     "name": "stdout",
     "output_type": "stream",
     "text": [
      "33\n",
      "11\n",
      "36\n",
      "66\n",
      "83\n"
     ]
    }
   ],
   "source": [
    "for i in range(5):\n",
    "  print(bow_cnt[i])"
   ]
  },
  {
   "cell_type": "code",
   "execution_count": 5,
   "metadata": {},
   "outputs": [
    {
     "data": {
      "text/plain": [
       "(1.499268682608252, 324.02938875471955)"
      ]
     },
     "execution_count": 5,
     "metadata": {},
     "output_type": "execute_result"
    }
   ],
   "source": [
    "venue_avg = sum([k*v for k, v in venue_cnt.items()]) / len(docs)\n",
    "bow_avg = sum([k*v for k, v in bow_cnt.items()]) / len(docs)\n",
    "venue_avg, bow_avg"
   ]
  },
  {
   "cell_type": "code",
   "execution_count": 10,
   "metadata": {},
   "outputs": [
    {
     "data": {
      "image/png": "[encoded data removed]",
      "text/plain": [
       "<Figure size 432x288 with 1 Axes>"
      ]
     },
     "metadata": {
      "needs_background": "light"
     },
     "output_type": "display_data"
    }
   ],
   "source": [
    "ticks = [str(i) for i in range(10)]\n",
    "ticks[-1] += '+'\n",
    "y = [bow_cnt[i] for i in range(9)]\n",
    "y.append(sum(bow_cnt.values()) - sum(y))\n",
    "plt.bar(range(10), y)\n",
    "plt.yscale('log')\n",
    "plt.xticks(range(10), ticks)\n",
    "plt.xlabel('No. of tokens')\n",
    "plt.ylabel('No. of documents')\n",
    "plt.show()"
   ]
  },
  {
   "cell_type": "code",
   "execution_count": 11,
   "metadata": {},
   "outputs": [
    {
     "data": {
      "text/plain": [
       "[33, 11, 36, 66, 83, 120, 110, 108, 100, 28732]"
      ]
     },
     "execution_count": 11,
     "metadata": {},
     "output_type": "execute_result"
    }
   ],
   "source": [
    "y"
   ]
  },
  {
   "cell_type": "code",
   "execution_count": null,
   "metadata": {},
   "outputs": [],
   "source": []
  }
 ],
 "metadata": {
  "interpreter": {
   "hash": "afec8bd1b97d7d536c9012edeeda7c68a0e99e84af90a3d324c5b7b0f06b2586"
  },
  "kernelspec": {
   "display_name": "Python 3.7.6 64-bit ('base': conda)",
   "language": "python",
   "name": "python3"
  },
  "language_info": {
   "codemirror_mode": {
    "name": "ipython",
    "version": 3
   },
   "file_extension": ".py",
   "mimetype": "text/x-python",
   "name": "python",
   "nbconvert_exporter": "python",
   "pygments_lexer": "ipython3",
   "version": "3.7.6"
  },
  "orig_nbformat": 4
 },
 "nbformat": 4,
 "nbformat_minor": 2
}
