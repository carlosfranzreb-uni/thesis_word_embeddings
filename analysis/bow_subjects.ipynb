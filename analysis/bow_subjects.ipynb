{
 "cells": [
  {
   "cell_type": "code",
   "execution_count": 1,
   "metadata": {},
   "outputs": [],
   "source": [
    "import json\n",
    "from matplotlib import pyplot as plt\n",
    "import numpy as np"
   ]
  },
  {
   "cell_type": "code",
   "execution_count": 2,
   "metadata": {},
   "outputs": [],
   "source": [
    "subjects = json.load(open('../data/bow/subjects.json'))"
   ]
  },
  {
   "cell_type": "code",
   "execution_count": 3,
   "metadata": {},
   "outputs": [
    {
     "data": {
      "text/plain": [
       "2157"
      ]
     },
     "execution_count": 3,
     "metadata": {},
     "output_type": "execute_result"
    }
   ],
   "source": [
    "len(subjects)  # no. of subjects"
   ]
  },
  {
   "cell_type": "code",
   "execution_count": 4,
   "metadata": {},
   "outputs": [],
   "source": [
    "def get_shortest(data):\n",
    "  \"\"\" Get shortest array present in the values of the given dict. \"\"\"\n",
    "  shortest = 999\n",
    "  for arr in data.values():\n",
    "    if len(arr) > 0 and len(arr) < shortest:\n",
    "      shortest = len(arr)\n",
    "  return shortest"
   ]
  },
  {
   "cell_type": "code",
   "execution_count": 5,
   "metadata": {},
   "outputs": [
    {
     "data": {
      "text/plain": [
       "3"
      ]
     },
     "execution_count": 5,
     "metadata": {},
     "output_type": "execute_result"
    }
   ],
   "source": [
    "get_shortest(subjects)\n"
   ]
  },
  {
   "cell_type": "code",
   "execution_count": 6,
   "metadata": {},
   "outputs": [],
   "source": [
    "for arr in subjects.values():\n",
    "  if len(arr) == 1:\n",
    "    print(len(arr))"
   ]
  },
  {
   "cell_type": "code",
   "execution_count": 7,
   "metadata": {},
   "outputs": [],
   "source": [
    "def get_counts(data):\n",
    "  \"\"\" Count array lengths present in the values of the given dict. \"\"\"\n",
    "  counts = [0 for _ in list(range(10))]\n",
    "  for arr in data.values():\n",
    "    if len(arr) > len(counts)-1:\n",
    "      counts[-1] += 1\n",
    "    else:\n",
    "      counts[len(arr)] += 1\n",
    "  return counts"
   ]
  },
  {
   "cell_type": "code",
   "execution_count": 8,
   "metadata": {},
   "outputs": [
    {
     "data": {
      "text/plain": [
       "[0, 0, 0, 1, 0, 1, 1, 1, 0, 2153]"
      ]
     },
     "execution_count": 8,
     "metadata": {},
     "output_type": "execute_result"
    }
   ],
   "source": [
    "get_counts(subjects)\n"
   ]
  },
  {
   "cell_type": "code",
   "execution_count": 9,
   "metadata": {},
   "outputs": [
    {
     "data": {
      "text/plain": [
       "30.881780250347706"
      ]
     },
     "execution_count": 9,
     "metadata": {},
     "output_type": "execute_result"
    }
   ],
   "source": [
    "avg_len = sum([len(v) for v in subjects])/len(subjects)\n",
    "avg_len"
   ]
  },
  {
   "cell_type": "code",
   "execution_count": 10,
   "metadata": {},
   "outputs": [
    {
     "data": {
      "image/png": "[encoded data removed]",
      "text/plain": [
       "<Figure size 432x288 with 1 Axes>"
      ]
     },
     "metadata": {
      "needs_background": "light"
     },
     "output_type": "display_data"
    }
   ],
   "source": [
    "x = np.arange(10)\n",
    "ticks = [str(i) for i in range(10)]\n",
    "ticks[-1] += '+'\n",
    "plt.bar(x, get_counts(subjects))\n",
    "plt.yscale('log')\n",
    "plt.xticks(x, ticks)\n",
    "plt.xlabel('No. of tokens')\n",
    "plt.ylabel('No. of subjects (log. scale)')\n",
    "plt.show()"
   ]
  },
  {
   "cell_type": "code",
   "execution_count": 11,
   "metadata": {},
   "outputs": [
    {
     "name": "stdout",
     "output_type": "stream",
     "text": [
      "Athletes https://openalex.org/C2781054738  Athletes is a genus of moths in the family Saturniidae first described by Ferdinand Karsch in 1896.  \n",
      "\n",
      "Discretization https://openalex.org/C73000952 process of transferring continuous functions into discrete counterparts\n",
      "\n",
      "Statute https://openalex.org/C17319257 formal written document that creates law\n",
      "\n",
      "Interim https://openalex.org/C2776957806 preliminary or intermediate state\n",
      "\n"
     ]
    }
   ],
   "source": [
    "short = [s for s, arr in subjects.items() if len(arr) < 9]\n",
    "names = json.load(open('../data/openalex/subjects.json'))\n",
    "full_articles = json.load(open('../data/openalex/articles.json'))\n",
    "for id in short:\n",
    "  print(names[id]['name'], id, full_articles[id] + \"\\n\")"
   ]
  },
  {
   "cell_type": "markdown",
   "metadata": {},
   "source": [
    "3 descriptions were used because of missing links: Interim, Discretization and Statute. Athletes really has just one line in its Wikipedia entries."
   ]
  },
  {
   "cell_type": "markdown",
   "metadata": {},
   "source": []
  }
 ],
 "metadata": {
  "interpreter": {
   "hash": "afec8bd1b97d7d536c9012edeeda7c68a0e99e84af90a3d324c5b7b0f06b2586"
  },
  "kernelspec": {
   "display_name": "Python 3.7.6 64-bit ('base': conda)",
   "language": "python",
   "name": "python3"
  },
  "language_info": {
   "codemirror_mode": {
    "name": "ipython",
    "version": 3
   },
   "file_extension": ".py",
   "mimetype": "text/x-python",
   "name": "python",
   "nbconvert_exporter": "python",
   "pygments_lexer": "ipython3",
   "version": "3.7.6"
  },
  "orig_nbformat": 4
 },
 "nbformat": 4,
 "nbformat_minor": 2
}
